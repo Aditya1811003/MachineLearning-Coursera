{
 "cells": [
  {
   "cell_type": "markdown",
   "metadata": {},
   "source": [
    "## **📌 Task: Feature Engineering?**\n",
    "#### **Feature engineering is the process of modifying raw data into meaningful features that help machine learning models make better predictions.**\n",
    "#### "
   ]
  },
  {
   "cell_type": "code",
   "execution_count": 1,
   "metadata": {},
   "outputs": [],
   "source": [
    "import pandas as pd\n",
    "import numpy as np\n",
    "from sklearn.preprocessing import StandardScaler"
   ]
  },
  {
   "cell_type": "code",
   "execution_count": 2,
   "metadata": {},
   "outputs": [
    {
     "name": "stdout",
     "output_type": "stream",
     "text": [
      "   Customer_ID  Age  Income  Spending_Score  Family_Members  \\\n",
      "0            1   56   72733              93               1   \n",
      "1            2   46   85318              46               2   \n",
      "2            3   32  129953               6               5   \n",
      "3            4   60  109474              99               2   \n",
      "4            5   25   43664              37               2   \n",
      "\n",
      "   Last_Transaction_Days  \n",
      "0                    341  \n",
      "1                    282  \n",
      "2                     63  \n",
      "3                    217  \n",
      "4                    342  \n",
      "Customer_ID              0\n",
      "Age                      0\n",
      "Income                   0\n",
      "Spending_Score           0\n",
      "Family_Members           0\n",
      "Last_Transaction_Days    0\n",
      "dtype: int64\n",
      "<class 'pandas.core.frame.DataFrame'>\n",
      "RangeIndex: 200 entries, 0 to 199\n",
      "Data columns (total 6 columns):\n",
      " #   Column                 Non-Null Count  Dtype\n",
      "---  ------                 --------------  -----\n",
      " 0   Customer_ID            200 non-null    int64\n",
      " 1   Age                    200 non-null    int64\n",
      " 2   Income                 200 non-null    int64\n",
      " 3   Spending_Score         200 non-null    int64\n",
      " 4   Family_Members         200 non-null    int64\n",
      " 5   Last_Transaction_Days  200 non-null    int64\n",
      "dtypes: int64(6)\n",
      "memory usage: 9.5 KB\n",
      "None\n"
     ]
    }
   ],
   "source": [
    "\n",
    "\n",
    "# Load the dataset\n",
    "df = pd.read_csv(\"sample_feature_engineering.csv\")\n",
    "\n",
    "# Display first few rows\n",
    "print(df.head())\n",
    "\n",
    "# Check for missing values\n",
    "print(df.isnull().sum())\n",
    "\n",
    "# Check data types\n",
    "print(df.info())\n"
   ]
  },
  {
   "cell_type": "code",
   "execution_count": 6,
   "metadata": {},
   "outputs": [
    {
     "name": "stdout",
     "output_type": "stream",
     "text": [
      "   Customer_ID  Age  Income  Spending_Score  Family_Members  \\\n",
      "0            1   56   72733              93               1   \n",
      "1            2   46   85318              46               2   \n",
      "2            3   32  129953               6               5   \n",
      "3            4   60  109474              99               2   \n",
      "4            5   25   43664              37               2   \n",
      "\n",
      "   Last_Transaction_Days  Income_Per_Member  Spending_Efficiency  \\\n",
      "0                    341            72733.0             1.660714   \n",
      "1                    282            42659.0             1.000000   \n",
      "2                     63            25990.6             0.187500   \n",
      "3                    217            54737.0             1.650000   \n",
      "4                    342            21832.0             1.480000   \n",
      "\n",
      "  Transaction_Category  \n",
      "0             Very Old  \n",
      "1             Very Old  \n",
      "2               Recent  \n",
      "3             Very Old  \n",
      "4             Very Old  \n"
     ]
    }
   ],
   "source": [
    "# Create new features\n",
    "df[\"Income_Per_Member\"] = df[\"Income\"] / df[\"Family_Members\"]\n",
    "df[\"Spending_Efficiency\"] = df[\"Spending_Score\"] / df[\"Age\"]\n",
    "\n",
    "# Categorizing transaction recency\n",
    "df[\"Transaction_Category\"] = pd.cut(\n",
    "    df[\"Last_Transaction_Days\"], \n",
    "    bins=[0, 90, 180, 365], \n",
    "    labels=[\"Recent\", \"Old\", \"Very Old\"]\n",
    ")\n",
    "\n",
    "# Display updated dataset\n",
    "print(df.head())"
   ]
  },
  {
   "cell_type": "code",
   "execution_count": 4,
   "metadata": {},
   "outputs": [
    {
     "name": "stdout",
     "output_type": "stream",
     "text": [
      "Customer_ID              0\n",
      "Age                      0\n",
      "Income                   0\n",
      "Spending_Score           0\n",
      "Family_Members           0\n",
      "Last_Transaction_Days    0\n",
      "Income_Per_Member        0\n",
      "Spending_Efficiency      0\n",
      "Transaction_Category     0\n",
      "dtype: int64\n"
     ]
    }
   ],
   "source": [
    "# Fill missing numerical values with median\n",
    "df.fillna({\"Income\": df[\"Income\"].median(), \"Spending_Score\": df[\"Spending_Score\"].median()}, inplace=True)\n",
    "\n",
    "# Fill missing categorical values\n",
    "#\"Transaction_Category\" is stored as a categorical variable with fixed categories. Pandas does not automatically allow new values (like \"Unknown\") to be added.\n",
    "#df[\"Transaction_Category\"]=df[\"Transaction_Category\"].fillna(\"Unknown\") this linewas giving above error\n",
    "# Ensure 'Transaction_Category' is categorical before adding a new category\n",
    "if df[\"Transaction_Category\"].dtype.name == \"category\":\n",
    "    df[\"Transaction_Category\"] = df[\"Transaction_Category\"].cat.add_categories(\"Unknown\")\n",
    "\n",
    "# Now fill missing values with \"Unknown\"\n",
    "df[\"Transaction_Category\"]=df[\"Transaction_Category\"].fillna(\"Unknown\")\n",
    "\n",
    "\n",
    "# Check if missing values are handled\n",
    "print(df.isnull().sum())"
   ]
  },
  {
   "cell_type": "code",
   "execution_count": 5,
   "metadata": {},
   "outputs": [
    {
     "name": "stdout",
     "output_type": "stream",
     "text": [
      "Dataset after removing outliers: (200, 9)\n",
      "   Customer_ID  Age  Income  Spending_Score  Family_Members  \\\n",
      "0            1   56   72733              93               1   \n",
      "1            2   46   85318              46               2   \n",
      "2            3   32  129953               6               5   \n",
      "3            4   60  109474              99               2   \n",
      "4            5   25   43664              37               2   \n",
      "\n",
      "   Last_Transaction_Days  Income_Per_Member  Spending_Efficiency  \\\n",
      "0                    341            72733.0             1.660714   \n",
      "1                    282            42659.0             1.000000   \n",
      "2                     63            25990.6             0.187500   \n",
      "3                    217            54737.0             1.650000   \n",
      "4                    342            21832.0             1.480000   \n",
      "\n",
      "  Transaction_Category  \n",
      "0             Very Old  \n",
      "1             Very Old  \n",
      "2               Recent  \n",
      "3             Very Old  \n",
      "4             Very Old  \n"
     ]
    }
   ],
   "source": [
    "\n",
    "# Define a function to remove outliers using IQR\n",
    "def remove_outliers(df, column):\n",
    "    Q1 = df[column].quantile(0.25)\n",
    "    Q3 = df[column].quantile(0.75)\n",
    "    IQR = Q3 - Q1\n",
    "    lower_bound = Q1 - 1.5 * IQR\n",
    "    upper_bound = Q3 + 1.5 * IQR\n",
    "    return df[(df[column] >= lower_bound) & (df[column] <= upper_bound)]\n",
    "\n",
    "# Remove outliers for Income & Spending Score\n",
    "df = remove_outliers(df, \"Income\")\n",
    "df = remove_outliers(df, \"Spending_Score\")\n",
    "\n",
    "# Display updated shape\n",
    "print(f\"Dataset after removing outliers: {df.shape}\")\n",
    "print(df.head())"
   ]
  },
  {
   "cell_type": "code",
   "execution_count": null,
   "metadata": {},
   "outputs": [],
   "source": [
    "\n"
   ]
  }
 ],
 "metadata": {
  "kernelspec": {
   "display_name": "Python 3",
   "language": "python",
   "name": "python3"
  },
  "language_info": {
   "codemirror_mode": {
    "name": "ipython",
    "version": 3
   },
   "file_extension": ".py",
   "mimetype": "text/x-python",
   "name": "python",
   "nbconvert_exporter": "python",
   "pygments_lexer": "ipython3",
   "version": "3.10.16"
  }
 },
 "nbformat": 4,
 "nbformat_minor": 2
}
