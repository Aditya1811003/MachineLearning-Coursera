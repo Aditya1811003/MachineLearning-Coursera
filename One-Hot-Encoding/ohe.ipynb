{
 "cells": [
  {
   "cell_type": "code",
   "execution_count": 1,
   "metadata": {},
   "outputs": [
    {
     "name": "stdout",
     "output_type": "stream",
     "text": [
      "   Customer_ID  Gender      City Membership  Spending_Score\n",
      "0            1  Female  New York       Gold              34\n",
      "1            2    Male  New York       Gold              65\n",
      "2            3  Female   Chicago       Gold              55\n",
      "3            4    Male   Chicago       Gold              90\n",
      "4            5    Male   Chicago   Platinum              43\n",
      "Customer_ID        int64\n",
      "Gender            object\n",
      "City              object\n",
      "Membership        object\n",
      "Spending_Score     int64\n",
      "dtype: object\n"
     ]
    }
   ],
   "source": [
    "import pandas as pd\n",
    "\n",
    "# Load dataset\n",
    "df = pd.read_csv(\"sample_one_hot_encoding.csv\")\n",
    "\n",
    "# Display first few rows\n",
    "print(df.head())\n",
    "\n",
    "# Check categorical columns\n",
    "print(df.dtypes)\n"
   ]
  },
  {
   "cell_type": "code",
   "execution_count": 2,
   "metadata": {},
   "outputs": [
    {
     "name": "stdout",
     "output_type": "stream",
     "text": [
      "   Customer_ID  Spending_Score  Gender_Male  City_Houston  City_Los Angeles  \\\n",
      "0            1              34        False         False             False   \n",
      "1            2              65         True         False             False   \n",
      "2            3              55        False         False             False   \n",
      "3            4              90         True         False             False   \n",
      "4            5              43         True         False             False   \n",
      "\n",
      "   City_New York  Membership_Platinum  Membership_Silver  \n",
      "0           True                False              False  \n",
      "1           True                False              False  \n",
      "2          False                False              False  \n",
      "3          False                False              False  \n",
      "4          False                 True              False  \n"
     ]
    }
   ],
   "source": [
    "# Apply One-Hot Encoding\n",
    "df_encoded = pd.get_dummies(df, columns=[\"Gender\", \"City\", \"Membership\"], drop_first=True)\n",
    "\n",
    "# Display transformed dataset\n",
    "print(df_encoded.head())\n"
   ]
  },
  {
   "cell_type": "code",
   "execution_count": 3,
   "metadata": {},
   "outputs": [
    {
     "name": "stdout",
     "output_type": "stream",
     "text": [
      "✅ One-Hot Encoding complete! Processed dataset saved as processed_one_hot_encoding.csv\n"
     ]
    }
   ],
   "source": [
    "processed_file_path = \"processed_one_hot_encoding.csv\"\n",
    "df_encoded.to_csv(processed_file_path, index=False)\n",
    "\n",
    "print(f\"✅ One-Hot Encoding complete! Processed dataset saved as {processed_file_path}\")\n"
   ]
  }
 ],
 "metadata": {
  "kernelspec": {
   "display_name": "Python 3",
   "language": "python",
   "name": "python3"
  },
  "language_info": {
   "codemirror_mode": {
    "name": "ipython",
    "version": 3
   },
   "file_extension": ".py",
   "mimetype": "text/x-python",
   "name": "python",
   "nbconvert_exporter": "python",
   "pygments_lexer": "ipython3",
   "version": "3.10.16"
  }
 },
 "nbformat": 4,
 "nbformat_minor": 2
}
